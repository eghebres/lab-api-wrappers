{
 "cells": [
  {
   "cell_type": "code",
   "execution_count": 1,
   "id": "3f7b4749",
   "metadata": {},
   "outputs": [],
   "source": [
    "import pandas as pd\n",
    "import numpy as np\n",
    "import matplotlib.pyplot as plt\n",
    "%matplotlib inline\n",
    "from sklearn import cluster, datasets\n",
    "from sklearn.preprocessing import StandardScaler\n",
    "from matplotlib.lines import Line2D\n",
    "from sklearn.preprocessing import StandardScaler\n",
    "from sklearn.cluster import KMeans\n",
    "from sklearn.metrics import silhouette_score\n",
    "import spotipy\n",
    "from spotipy.oauth2 import SpotifyClientCredentials"
   ]
  },
  {
   "cell_type": "code",
   "execution_count": 2,
   "id": "a868f273",
   "metadata": {},
   "outputs": [],
   "source": [
    "secrets_file = open(\"secrets.txt\",\"r\")"
   ]
  },
  {
   "cell_type": "code",
   "execution_count": 3,
   "id": "68a64482",
   "metadata": {},
   "outputs": [],
   "source": [
    "string = secrets_file.read()"
   ]
  },
  {
   "cell_type": "code",
   "execution_count": 4,
   "id": "fdbac094",
   "metadata": {},
   "outputs": [
    {
     "data": {
      "text/plain": [
       "'cid:afc19ecdc3084b6bad89fced4fdec053\\ncsecret:006bb6cec86e4a13b4d2bcb72d138c00'"
      ]
     },
     "execution_count": 4,
     "metadata": {},
     "output_type": "execute_result"
    }
   ],
   "source": [
    "string"
   ]
  },
  {
   "cell_type": "code",
   "execution_count": 5,
   "id": "dd81cb45",
   "metadata": {},
   "outputs": [
    {
     "data": {
      "text/plain": [
       "['cid:afc19ecdc3084b6bad89fced4fdec053',\n",
       " 'csecret:006bb6cec86e4a13b4d2bcb72d138c00']"
      ]
     },
     "execution_count": 5,
     "metadata": {},
     "output_type": "execute_result"
    }
   ],
   "source": [
    "string.split('\\n')"
   ]
  },
  {
   "cell_type": "code",
   "execution_count": 6,
   "id": "5f554134",
   "metadata": {},
   "outputs": [
    {
     "name": "stdout",
     "output_type": "stream",
     "text": [
      "['cid', 'afc19ecdc3084b6bad89fced4fdec053']\n",
      "['csecret', '006bb6cec86e4a13b4d2bcb72d138c00']\n"
     ]
    }
   ],
   "source": [
    "secrets_dict={}\n",
    "for line in string.split('\\n'):\n",
    "    if len(line) > 0:\n",
    "        print(line.split(':'))\n",
    "        secrets_dict[line.split(':')[0]]=line.split(':')[1]"
   ]
  },
  {
   "cell_type": "code",
   "execution_count": 7,
   "id": "46080c07",
   "metadata": {},
   "outputs": [],
   "source": [
    "#Initialize SpotiPy with user credentials\n",
    "sp = spotipy.Spotify(auth_manager=SpotifyClientCredentials(client_id=secrets_dict['cid'],\n",
    "                                                           client_secret=secrets_dict['csecret']))"
   ]
  },
  {
   "cell_type": "code",
   "execution_count": 8,
   "id": "0cf004ba",
   "metadata": {},
   "outputs": [],
   "source": [
    "# we will need more songs for our clustering\n",
    "#this is the playlist of previous cohorts\n",
    "# playlist = sp.user_playlist_tracks(\"spotify\", \"15lF8LvL2Hl7kURT5puoUm\")"
   ]
  },
  {
   "cell_type": "code",
   "execution_count": 9,
   "id": "9aec0e25",
   "metadata": {},
   "outputs": [],
   "source": [
    "def get_playlist_tracks(id):\n",
    "    results = sp.user_playlist_tracks(\"spotify\",id)\n",
    "    tracks = results['items']\n",
    "    while results['next']!=None:\n",
    "        results = sp.next(results)\n",
    "        tracks = tracks + results['items']\n",
    "        sleep(randint(1,2))\n",
    "    return tracks\n",
    "\n",
    "# complete_all = []\n",
    "\n",
    "# for key in complete.keys():\n",
    "#     complete_all = complete_all+(playlist_tracks(complete[key]))"
   ]
  },
  {
   "cell_type": "code",
   "execution_count": 10,
   "id": "57fb4432",
   "metadata": {},
   "outputs": [],
   "source": [
    "from random import randint\n",
    "from time import sleep\n",
    "\n",
    "# complete = {'all_tracks2':'6y305NpaXU4o5b4jnm9sTl','all_tracks2':'6y305NpaXU4o5b4jnm9sTl','all_tracks3':'2eCDS5ViIxgRAc1kcZsiuY','all_tracks4':'6GyinNhgoyj2LA8fWPOMyR','all_tracks5':'7hHVAclbA9eaN5Mr4CTkvV','all_tracks6':'6Hm7Rh6pJzKKmyQNgMl0j8','all_tracks7':'7CeTfwOlRRZn72Sj2dD7gH','all_tracks8':'0U5B7I1xbFSHPjjWdjkcId','all_tracks9':'4xSkzmkgnMjdO22h8pcgdm','all_tracks10':'3kpzURw4wImwjy2KSCEaI3'}\n",
    "\n",
    "list1 = get_playlist_tracks('15lF8LvL2Hl7kURT5puoUm')\n",
    "list2 = get_playlist_tracks('6y305NpaXU4o5b4jnm9sTl')\n",
    "list3 = get_playlist_tracks('2eCDS5ViIxgRAc1kcZsiuY')\n",
    "list4 = get_playlist_tracks('6GyinNhgoyj2LA8fWPOMyR')\n",
    "list5 = get_playlist_tracks('7CeTfwOlRRZn72Sj2dD7gH')\n",
    "list6 = get_playlist_tracks('6Hm7Rh6pJzKKmyQNgMl0j8')\n",
    "list7 = get_playlist_tracks('7CeTfwOlRRZn72Sj2dD7gH')\n",
    "list8 = get_playlist_tracks('0U5B7I1xbFSHPjjWdjkcId')\n",
    "list9 = get_playlist_tracks('4xSkzmkgnMjdO22h8pcgdm')\n",
    "list10 = get_playlist_tracks('3kpzURw4wImwjy2KSCEaI3')"
   ]
  },
  {
   "cell_type": "code",
   "execution_count": 11,
   "id": "96eb61c4",
   "metadata": {
    "scrolled": true
   },
   "outputs": [
    {
     "ename": "NameError",
     "evalue": "name 'complete_all' is not defined",
     "output_type": "error",
     "traceback": [
      "\u001b[1;31m---------------------------------------------------------------------------\u001b[0m",
      "\u001b[1;31mNameError\u001b[0m                                 Traceback (most recent call last)",
      "Input \u001b[1;32mIn [11]\u001b[0m, in \u001b[0;36m<cell line: 1>\u001b[1;34m()\u001b[0m\n\u001b[1;32m----> 1\u001b[0m \u001b[38;5;28mlen\u001b[39m(\u001b[43mcomplete_all\u001b[49m)\n",
      "\u001b[1;31mNameError\u001b[0m: name 'complete_all' is not defined"
     ]
    }
   ],
   "source": [
    "# len(complete_all)"
   ]
  },
  {
   "cell_type": "code",
   "execution_count": 17,
   "id": "b4763180",
   "metadata": {},
   "outputs": [
    {
     "name": "stdout",
     "output_type": "stream",
     "text": [
      "1 293\n",
      "2 2583\n",
      "3 2933\n",
      "4 1102\n",
      "5 3895\n",
      "6 3120\n",
      "7 3895\n",
      "8 2035\n",
      "9 2174\n",
      "10 3229\n",
      "total is 25259\n"
     ]
    }
   ],
   "source": [
    "print('1',len(list1))\n",
    "print('2',len(list2))\n",
    "print('3',len(list3))\n",
    "print('4',len(list4))\n",
    "print('5',len(list5))\n",
    "print('6',len(list6))\n",
    "print('7',len(list7))\n",
    "print('8',len(list8))\n",
    "print('9',len(list9))\n",
    "print('10',len(list10))\n",
    "\n",
    "print('total is',len(list1)+len(list2)+len(list3)+len(list4)+len(list5)+len(list6)+len(list7)+len(list8)+len(list9)+len(list10))"
   ]
  },
  {
   "cell_type": "code",
   "execution_count": 18,
   "id": "3de29223",
   "metadata": {},
   "outputs": [],
   "source": [
    "# def playlist(x):\n",
    "#     artist = []\n",
    "#     song = []\n",
    "#     features = []\n",
    "#     counter = 0\n",
    "#     for i in x:\n",
    "#         song.append(x[counter]['track']['name'])\n",
    "#         artist.append(x[counter]['track']['artists'][0]['name'])\n",
    "#         features.append(sp.audio_features(x[counter][\"track\"][\"uri\"]))\n",
    "#         counter += 1\n",
    "#     return pd.DataFrame({'artist': artist, 'song': song, 'features': features})"
   ]
  },
  {
   "cell_type": "code",
   "execution_count": 23,
   "id": "a8e634f9",
   "metadata": {},
   "outputs": [],
   "source": [
    "tracks = (list1+list2+list3+list4+list5+list6+list7+list8+list9+list10)"
   ]
  },
  {
   "cell_type": "code",
   "execution_count": 24,
   "id": "b009e8e6",
   "metadata": {},
   "outputs": [],
   "source": [
    "song_name = []\n",
    "artist_name = []\n",
    "track_uri = []\n",
    "features = []\n",
    "\n",
    "for i in range(len(tracks)):\n",
    "    try:\n",
    "        song = tracks[i]['track']['name']\n",
    "        artist = tracks[i][\"track\"][\"album\"]['artists'][0]['name']\n",
    "        uri = tracks[i]['track']['uri']\n",
    "        \n",
    "        artist_name.append(artist)\n",
    "        song_name.append(song)\n",
    "        track_uri.append(uri)\n",
    "    except:\n",
    "        artist_name.append('none')\n",
    "        song_name.append('none')\n",
    "        track_uri.append('none')"
   ]
  },
  {
   "cell_type": "code",
   "execution_count": 25,
   "id": "f309cabb",
   "metadata": {},
   "outputs": [],
   "source": [
    "# create data frame\n",
    "\n",
    "spotify_df = pd.DataFrame({'song' : song_name,\n",
    "                          'artist': artist_name,\n",
    "                          'uri': track_uri})"
   ]
  },
  {
   "cell_type": "code",
   "execution_count": 26,
   "id": "4cca5b84",
   "metadata": {},
   "outputs": [
    {
     "data": {
      "text/html": [
       "<div>\n",
       "<style scoped>\n",
       "    .dataframe tbody tr th:only-of-type {\n",
       "        vertical-align: middle;\n",
       "    }\n",
       "\n",
       "    .dataframe tbody tr th {\n",
       "        vertical-align: top;\n",
       "    }\n",
       "\n",
       "    .dataframe thead th {\n",
       "        text-align: right;\n",
       "    }\n",
       "</style>\n",
       "<table border=\"1\" class=\"dataframe\">\n",
       "  <thead>\n",
       "    <tr style=\"text-align: right;\">\n",
       "      <th></th>\n",
       "      <th>song</th>\n",
       "      <th>artist</th>\n",
       "      <th>uri</th>\n",
       "    </tr>\n",
       "  </thead>\n",
       "  <tbody>\n",
       "    <tr>\n",
       "      <th>0</th>\n",
       "      <td>New Person, Same Old Mistakes</td>\n",
       "      <td>Tame Impala</td>\n",
       "      <td>spotify:track:52ojopYMUzeNcudsoz7O9D</td>\n",
       "    </tr>\n",
       "    <tr>\n",
       "      <th>1</th>\n",
       "      <td>I Was Never There</td>\n",
       "      <td>The Weeknd</td>\n",
       "      <td>spotify:track:1cKHdTo9u0ZymJdPGSh6nq</td>\n",
       "    </tr>\n",
       "    <tr>\n",
       "      <th>2</th>\n",
       "      <td>Under</td>\n",
       "      <td>Sampha</td>\n",
       "      <td>spotify:track:4NymlHYXIzso0S1TPWUSid</td>\n",
       "    </tr>\n",
       "    <tr>\n",
       "      <th>3</th>\n",
       "      <td>All I Have - Intro</td>\n",
       "      <td>Snoh Aalegra</td>\n",
       "      <td>spotify:track:6iBWuaPa61mWphAvACYlDr</td>\n",
       "    </tr>\n",
       "    <tr>\n",
       "      <th>4</th>\n",
       "      <td>Pyramids</td>\n",
       "      <td>Frank Ocean</td>\n",
       "      <td>spotify:track:4QhWbupniDd44EDtnh2bFJ</td>\n",
       "    </tr>\n",
       "  </tbody>\n",
       "</table>\n",
       "</div>"
      ],
      "text/plain": [
       "                            song        artist  \\\n",
       "0  New Person, Same Old Mistakes   Tame Impala   \n",
       "1              I Was Never There    The Weeknd   \n",
       "2                          Under        Sampha   \n",
       "3             All I Have - Intro  Snoh Aalegra   \n",
       "4                       Pyramids   Frank Ocean   \n",
       "\n",
       "                                    uri  \n",
       "0  spotify:track:52ojopYMUzeNcudsoz7O9D  \n",
       "1  spotify:track:1cKHdTo9u0ZymJdPGSh6nq  \n",
       "2  spotify:track:4NymlHYXIzso0S1TPWUSid  \n",
       "3  spotify:track:6iBWuaPa61mWphAvACYlDr  \n",
       "4  spotify:track:4QhWbupniDd44EDtnh2bFJ  "
      ]
     },
     "execution_count": 26,
     "metadata": {},
     "output_type": "execute_result"
    }
   ],
   "source": [
    "spotify_df.head()"
   ]
  },
  {
   "cell_type": "code",
   "execution_count": 27,
   "id": "6aec6d0b",
   "metadata": {},
   "outputs": [
    {
     "data": {
      "text/plain": [
       "none            37\n",
       "Forever         23\n",
       "You             18\n",
       "You & I         18\n",
       "With You        18\n",
       "                ..\n",
       "Dazzle           1\n",
       "Meddle About     1\n",
       "SAVIOUR          1\n",
       "Cease Fire !     1\n",
       "Beloved          1\n",
       "Name: song, Length: 17779, dtype: int64"
      ]
     },
     "execution_count": 27,
     "metadata": {},
     "output_type": "execute_result"
    }
   ],
   "source": [
    "spotify_df.song.value_counts() "
   ]
  },
  {
   "cell_type": "code",
   "execution_count": 28,
   "id": "16736638",
   "metadata": {},
   "outputs": [],
   "source": [
    "spotify_df = spotify_df[spotify_df.song != 'none']"
   ]
  },
  {
   "cell_type": "code",
   "execution_count": 29,
   "id": "fac13821",
   "metadata": {},
   "outputs": [
    {
     "data": {
      "text/plain": [
       "(25222, 3)"
      ]
     },
     "execution_count": 29,
     "metadata": {},
     "output_type": "execute_result"
    }
   ],
   "source": [
    "spotify_df.shape"
   ]
  },
  {
   "cell_type": "code",
   "execution_count": 30,
   "id": "8e2d3fb8",
   "metadata": {},
   "outputs": [],
   "source": [
    "spotify_df.reset_index(inplace=True)  "
   ]
  },
  {
   "cell_type": "code",
   "execution_count": 32,
   "id": "4a11e1de",
   "metadata": {},
   "outputs": [
    {
     "data": {
      "text/html": [
       "<div>\n",
       "<style scoped>\n",
       "    .dataframe tbody tr th:only-of-type {\n",
       "        vertical-align: middle;\n",
       "    }\n",
       "\n",
       "    .dataframe tbody tr th {\n",
       "        vertical-align: top;\n",
       "    }\n",
       "\n",
       "    .dataframe thead th {\n",
       "        text-align: right;\n",
       "    }\n",
       "</style>\n",
       "<table border=\"1\" class=\"dataframe\">\n",
       "  <thead>\n",
       "    <tr style=\"text-align: right;\">\n",
       "      <th></th>\n",
       "      <th>index</th>\n",
       "      <th>song</th>\n",
       "      <th>artist</th>\n",
       "      <th>uri</th>\n",
       "    </tr>\n",
       "  </thead>\n",
       "  <tbody>\n",
       "    <tr>\n",
       "      <th>0</th>\n",
       "      <td>0</td>\n",
       "      <td>New Person, Same Old Mistakes</td>\n",
       "      <td>Tame Impala</td>\n",
       "      <td>spotify:track:52ojopYMUzeNcudsoz7O9D</td>\n",
       "    </tr>\n",
       "    <tr>\n",
       "      <th>1</th>\n",
       "      <td>1</td>\n",
       "      <td>I Was Never There</td>\n",
       "      <td>The Weeknd</td>\n",
       "      <td>spotify:track:1cKHdTo9u0ZymJdPGSh6nq</td>\n",
       "    </tr>\n",
       "    <tr>\n",
       "      <th>2</th>\n",
       "      <td>2</td>\n",
       "      <td>Under</td>\n",
       "      <td>Sampha</td>\n",
       "      <td>spotify:track:4NymlHYXIzso0S1TPWUSid</td>\n",
       "    </tr>\n",
       "    <tr>\n",
       "      <th>3</th>\n",
       "      <td>3</td>\n",
       "      <td>All I Have - Intro</td>\n",
       "      <td>Snoh Aalegra</td>\n",
       "      <td>spotify:track:6iBWuaPa61mWphAvACYlDr</td>\n",
       "    </tr>\n",
       "    <tr>\n",
       "      <th>4</th>\n",
       "      <td>4</td>\n",
       "      <td>Pyramids</td>\n",
       "      <td>Frank Ocean</td>\n",
       "      <td>spotify:track:4QhWbupniDd44EDtnh2bFJ</td>\n",
       "    </tr>\n",
       "  </tbody>\n",
       "</table>\n",
       "</div>"
      ],
      "text/plain": [
       "   index                           song        artist  \\\n",
       "0      0  New Person, Same Old Mistakes   Tame Impala   \n",
       "1      1              I Was Never There    The Weeknd   \n",
       "2      2                          Under        Sampha   \n",
       "3      3             All I Have - Intro  Snoh Aalegra   \n",
       "4      4                       Pyramids   Frank Ocean   \n",
       "\n",
       "                                    uri  \n",
       "0  spotify:track:52ojopYMUzeNcudsoz7O9D  \n",
       "1  spotify:track:1cKHdTo9u0ZymJdPGSh6nq  \n",
       "2  spotify:track:4NymlHYXIzso0S1TPWUSid  \n",
       "3  spotify:track:6iBWuaPa61mWphAvACYlDr  \n",
       "4  spotify:track:4QhWbupniDd44EDtnh2bFJ  "
      ]
     },
     "execution_count": 32,
     "metadata": {},
     "output_type": "execute_result"
    }
   ],
   "source": [
    "spotify_df.head()"
   ]
  },
  {
   "cell_type": "code",
   "execution_count": null,
   "id": "602fa577",
   "metadata": {},
   "outputs": [],
   "source": [
    "# drop extra index, since unnecessary"
   ]
  },
  {
   "cell_type": "code",
   "execution_count": 33,
   "id": "8891261b",
   "metadata": {},
   "outputs": [],
   "source": [
    "spotify_df.drop('index', axis=1, inplace=True) "
   ]
  },
  {
   "cell_type": "code",
   "execution_count": 35,
   "id": "ed59b09e",
   "metadata": {},
   "outputs": [
    {
     "data": {
      "text/plain": [
       "(25222, 3)"
      ]
     },
     "execution_count": 35,
     "metadata": {},
     "output_type": "execute_result"
    }
   ],
   "source": [
    "spotify_df.shape"
   ]
  },
  {
   "cell_type": "code",
   "execution_count": null,
   "id": "9dcd9d12",
   "metadata": {},
   "outputs": [],
   "source": [
    "# get all individual tracks\n",
    "# def get_name_artist_from_playlist_tracks(playlist_item):\n",
    "#     return get_name_artists_from_track(playlist_item['track'])"
   ]
  },
  {
   "cell_type": "code",
   "execution_count": null,
   "id": "d36d923a",
   "metadata": {},
   "outputs": [],
   "source": [
    "# title = []\n",
    "# for list_el in complete_all:\n",
    "#     try:\n",
    "#        title.append(list_el['track']['name']) \n",
    "#     except:\n",
    "#         continue # 4 titles with None - value"
   ]
  },
  {
   "cell_type": "code",
   "execution_count": null,
   "id": "505e0515",
   "metadata": {},
   "outputs": [],
   "source": [
    "# len(title)"
   ]
  },
  {
   "cell_type": "code",
   "execution_count": null,
   "id": "0e968eb8",
   "metadata": {},
   "outputs": [],
   "source": [
    "# artist = []\n",
    "# for list_el in complete_all:\n",
    "#     try:\n",
    "#        artist.append(list_el['track']['artists'][0]['name'])\n",
    "#     except:\n",
    "#         artist.append('None')"
   ]
  },
  {
   "cell_type": "code",
   "execution_count": null,
   "id": "28055261",
   "metadata": {
    "scrolled": false
   },
   "outputs": [],
   "source": [
    "# len(artist)"
   ]
  },
  {
   "cell_type": "code",
   "execution_count": null,
   "id": "685dd9f6",
   "metadata": {},
   "outputs": [],
   "source": [
    "# artist1 = artist[0:][0:21992]"
   ]
  },
  {
   "cell_type": "code",
   "execution_count": null,
   "id": "b47207ed",
   "metadata": {},
   "outputs": [],
   "source": [
    "# uri_track = []\n",
    "\n",
    "# for i in range(len(complete_all)):\n",
    "#     try:\n",
    "#         uri = all_tracks[i]['track']['uri']\n",
    "#         uri_track.append(uri)\n",
    "#     except:\n",
    "#          uri_track.append('none')"
   ]
  },
  {
   "cell_type": "code",
   "execution_count": null,
   "id": "c30a484a",
   "metadata": {
    "scrolled": false
   },
   "outputs": [],
   "source": [
    "# play_list = pd.DataFrame({'artist':artist1,'title':title})\n",
    "# play_list"
   ]
  },
  {
   "cell_type": "code",
   "execution_count": null,
   "id": "b2ee2c2f",
   "metadata": {},
   "outputs": [],
   "source": [
    "# list = play_list[0:][0:21891]\n",
    "# list of audio features is shorter than list of titles/artists\n",
    "# shorten list of titles/artists"
   ]
  },
  {
   "cell_type": "code",
   "execution_count": null,
   "id": "eb8895f8",
   "metadata": {},
   "outputs": [],
   "source": [
    "# when you combine multiple lists to one table, make sure they all have the same length\n",
    "# otherwise the longer list will give you false values\n",
    "# remember 'Sylence'-issue, we don't want that nonsense again"
   ]
  },
  {
   "cell_type": "code",
   "execution_count": null,
   "id": "1a1b890d",
   "metadata": {},
   "outputs": [],
   "source": []
  },
  {
   "cell_type": "code",
   "execution_count": null,
   "id": "754fcc5a",
   "metadata": {},
   "outputs": [],
   "source": [
    "# import pandas as pd"
   ]
  },
  {
   "cell_type": "code",
   "execution_count": 37,
   "id": "69369901",
   "metadata": {
    "scrolled": true
   },
   "outputs": [
    {
     "name": "stdout",
     "output_type": "stream",
     "text": [
      "600\n",
      "600\n",
      "600\n",
      "600\n",
      "600\n"
     ]
    },
    {
     "name": "stderr",
     "output_type": "stream",
     "text": [
      "Expected id of type track but found type Rewrite spotify:local:Asian+Kung-fu+Generation::Rewrite:227\n",
      "Expected id of type track but found type Earth%27s+2nd+chance spotify:local:Rise+%26+Evolve+ft.+Tessa+der+Kinderen::Earth%27s+2nd+chance:278\n",
      "Expected id of type track but found type Siren spotify:local:Asian+Kung-Fu+Generation:Sol-fa:Siren:324\n",
      "Expected id of type track but found type Dear+Professor+by+The+Deans+List+%28Eliminate+Remix%29 spotify:local:Eliminate:Dubstep.NET+Free+Downloads:Dear+Professor+by+The+Deans+List+%28Eliminate+Remix%29:273\n",
      "Expected id of type track but found type %EB%93%9C%EB%A6%BC%ED%95%98%EC%9D%B4+%28Dream+High%29 spotify:local:Taecyeon%2C+Wooyoung%2C+Suzy%2C+Kim+Soo+Hyun%2C+Joo:Dream+High+OST+Part.1:%EB%93%9C%EB%A6%BC%ED%95%98%EC%9D%B4+%28Dream+High%29:226\n",
      "Expected id of type track but found type Naruto+Season+4+Theme spotify:local:::Naruto+Season+4+Theme:89\n",
      "Expected id of type track but found type Good+Time spotify:local:Owl+City+%26+Carly+Rae+Jepsen:Good+Time+-+Single:Good+Time:205\n",
      "Expected id of type track but found type By+Chance+%28You+%26+I%29 spotify:local:::By+Chance+%28You+%26+I%29:251\n"
     ]
    },
    {
     "name": "stdout",
     "output_type": "stream",
     "text": [
      "600\n",
      "600\n",
      "600\n",
      "600\n",
      "600\n",
      "600\n"
     ]
    },
    {
     "name": "stderr",
     "output_type": "stream",
     "text": [
      "Expected id of type track but found type y2mate.com+-+the_tomska_song_finished_version_fan_made_QohmlIHVQJo_320kbps spotify:local:::y2mate.com+-+the_tomska_song_finished_version_fan_made_QohmlIHVQJo_320kbps:92\n"
     ]
    },
    {
     "name": "stdout",
     "output_type": "stream",
     "text": [
      "600\n"
     ]
    },
    {
     "name": "stderr",
     "output_type": "stream",
     "text": [
      "Expected id of type track but found type Stand%21 spotify:local:Junior+Prom:Stand%21+-+Single:Stand%21:220\n",
      "Expected id of type track but found type Unicorn+Zombie+Apocalypse spotify:local:Borgore+%26+Sikdope:Unicorn+Zombie+Apocalypse+-+Single:Unicorn+Zombie+Apocalypse:277\n",
      "Expected id of type track but found type Tsunami+%28Jump%29+%5Bfeat.+Tinie+Tempah%5D+%5BRadio+Edit%5D spotify:local:DVBBS+%26+Borgeous:Tsunami+%28Jump%29+%5Bfeat.+Tinie+Tempah%5D+%5BRadio+Edit%5D+-+Single:Tsunami+%28Jump%29+%5Bfeat.+Tinie+Tempah%5D+%5BRadio+Edit%5D:159\n",
      "Expected id of type track but found type Bustin spotify:local:Neil+Cicierega:Mouth+Moods:Bustin:227\n"
     ]
    },
    {
     "name": "stdout",
     "output_type": "stream",
     "text": [
      "600\n"
     ]
    },
    {
     "name": "stderr",
     "output_type": "stream",
     "text": [
      "Expected id of type track but found type Losing+it+%28The+Stickmen+Gecko+Edit%29 spotify:local:Fisher:The+Stickmen+Mashups+2018:Losing+it+%28The+Stickmen+Gecko+Edit%29:185\n"
     ]
    },
    {
     "name": "stdout",
     "output_type": "stream",
     "text": [
      "600\n",
      "600\n",
      "600\n",
      "600\n",
      "600\n",
      "600\n",
      "600\n"
     ]
    },
    {
     "name": "stderr",
     "output_type": "stream",
     "text": [
      "Expected id of type track but found type Blame+Canada+-+South+Park+Bigger+Longer+%26+Uncut+%283_9%29+Movie+CLIP+%281999%29+HD spotify:local:::Blame+Canada+-+South+Park+Bigger+Longer+%26+Uncut+%283_9%29+Movie+CLIP+%281999%29+HD:124\n",
      "Expected id of type track but found type Eric+we+don%27t+want+you+to+die spotify:local:::Eric+we+don%27t+want+you+to+die:100\n",
      "Expected id of type track but found type Put+it+Down-South+Park+%28Lyrics%29 spotify:local:::Put+it+Down-South+Park+%28Lyrics%29:131\n",
      "Expected id of type track but found type It%27s+Easy%2C+M%27Kay+-+South+Park+Bigger+Longer+%26+Uncut+%281_9%29+Movie+CLIP+%281999%29+HD spotify:local:::It%27s+Easy%2C+M%27Kay+-+South+Park+Bigger+Longer+%26+Uncut+%281_9%29+Movie+CLIP+%281999%29+HD:144\n",
      "Expected id of type track but found type South+Park+-+Uncle+Fucker+Song+HD spotify:local:::South+Park+-+Uncle+Fucker+Song+HD:62\n",
      "Expected id of type track but found type Stan+Marsh+-+_Stop+Bullying_+%28Official+Music+Video%29+-+SOUTH+PARK spotify:local:::Stan+Marsh+-+_Stop+Bullying_+%28Official+Music+Video%29+-+SOUTH+PARK:156\n"
     ]
    },
    {
     "name": "stdout",
     "output_type": "stream",
     "text": [
      "600\n",
      "600\n",
      "600\n"
     ]
    },
    {
     "name": "stderr",
     "output_type": "stream",
     "text": [
      "Expected id of type track but found type y2mate.com+-+the_tomska_song_finished_version_fan_made_QohmlIHVQJo_320kbps spotify:local:::y2mate.com+-+the_tomska_song_finished_version_fan_made_QohmlIHVQJo_320kbps:92\n",
      "Expected id of type track but found type Stand%21 spotify:local:Junior+Prom:Stand%21+-+Single:Stand%21:220\n",
      "Expected id of type track but found type Unicorn+Zombie+Apocalypse spotify:local:Borgore+%26+Sikdope:Unicorn+Zombie+Apocalypse+-+Single:Unicorn+Zombie+Apocalypse:277\n",
      "Expected id of type track but found type Tsunami+%28Jump%29+%5Bfeat.+Tinie+Tempah%5D+%5BRadio+Edit%5D spotify:local:DVBBS+%26+Borgeous:Tsunami+%28Jump%29+%5Bfeat.+Tinie+Tempah%5D+%5BRadio+Edit%5D+-+Single:Tsunami+%28Jump%29+%5Bfeat.+Tinie+Tempah%5D+%5BRadio+Edit%5D:159\n",
      "Expected id of type track but found type Bustin spotify:local:Neil+Cicierega:Mouth+Moods:Bustin:227\n"
     ]
    },
    {
     "name": "stdout",
     "output_type": "stream",
     "text": [
      "600\n",
      "600\n"
     ]
    },
    {
     "name": "stderr",
     "output_type": "stream",
     "text": [
      "Expected id of type track but found type Losing+it+%28The+Stickmen+Gecko+Edit%29 spotify:local:Fisher:The+Stickmen+Mashups+2018:Losing+it+%28The+Stickmen+Gecko+Edit%29:185\n"
     ]
    },
    {
     "name": "stdout",
     "output_type": "stream",
     "text": [
      "600\n",
      "600\n",
      "600\n",
      "600\n",
      "600\n",
      "600\n"
     ]
    },
    {
     "name": "stderr",
     "output_type": "stream",
     "text": [
      "Expected id of type track but found type Thrift+Shop+%5BClean%5D+Feat+Wanz spotify:local:Macklemore+%26+Ryan+Lewis:The+Heist:Thrift+Shop+%5BClean%5D+Feat+Wanz:236\n"
     ]
    },
    {
     "name": "stdout",
     "output_type": "stream",
     "text": [
      "600\n",
      "600\n",
      "600\n",
      "600\n",
      "600\n",
      "600\n",
      "600\n",
      "600\n",
      "600\n",
      "600\n",
      "600\n"
     ]
    }
   ],
   "source": [
    "audio_feature = []\n",
    "cnt=0\n",
    "for i in tracks:\n",
    "    try:\n",
    "        if cnt == 600:\n",
    "            print(cnt)\n",
    "            sleep(randint(1,3))\n",
    "            cnt = 0\n",
    "        else:\n",
    "            cnt +=1\n",
    "            feature_url = i['track']['uri']\n",
    "            audio_feature.append(sp.audio_features(feature_url))\n",
    "    except:\n",
    "        continue\n"
   ]
  },
  {
   "cell_type": "code",
   "execution_count": 38,
   "id": "0a848de0",
   "metadata": {},
   "outputs": [
    {
     "data": {
      "text/plain": [
       "True"
      ]
     },
     "execution_count": 38,
     "metadata": {},
     "output_type": "execute_result"
    }
   ],
   "source": [
    "[None] in audio_feature"
   ]
  },
  {
   "cell_type": "code",
   "execution_count": 39,
   "id": "5e23db67",
   "metadata": {},
   "outputs": [
    {
     "data": {
      "text/plain": [
       "25205"
      ]
     },
     "execution_count": 39,
     "metadata": {},
     "output_type": "execute_result"
    }
   ],
   "source": [
    "len(audio_feature)"
   ]
  },
  {
   "cell_type": "code",
   "execution_count": 42,
   "id": "cb90af3b",
   "metadata": {},
   "outputs": [],
   "source": [
    "danceability = []\n",
    "energy = []\n",
    "loudness = []\n",
    "speechiness = []\n",
    "acousticness = []\n",
    "instrumentalness = []\n",
    "liveness = []\n",
    "valence = []\n",
    "tempo = []\n",
    "\n",
    "\n",
    "for i in range(len(audio_feature)):\n",
    "    #making sure we only run the for loop when it is not [None]\n",
    "    if audio_feature[i] != [None]:  \n",
    "        danceability.append(audio_feature[i][0]['danceability'])\n",
    "        energy.append(audio_feature[i][0]['energy'])\n",
    "        loudness.append(audio_feature[i][0]['loudness'])\n",
    "        speechiness.append(audio_feature[i][0]['speechiness'])\n",
    "        acousticness.append(audio_feature[i][0]['acousticness'])\n",
    "        instrumentalness.append(audio_feature[i][0]['instrumentalness'])\n",
    "        liveness.append(audio_feature[i][0]['liveness'])\n",
    "        valence.append(audio_feature[i][0]['valence'])\n",
    "        tempo.append(audio_feature[i][0]['tempo'])"
   ]
  },
  {
   "cell_type": "code",
   "execution_count": 43,
   "id": "f8960729",
   "metadata": {},
   "outputs": [],
   "source": [
    "spotify_audio = pd.DataFrame({'danceability' : danceability,\n",
    "                          'energy': energy,\n",
    "                          'loudness': loudness,\n",
    "                          'speechiness': speechiness,\n",
    "                           'acousticness': acousticness,\n",
    "                           'instrumentalness': instrumentalness,\n",
    "                           'liveness': liveness,\n",
    "                           'valence': valence,\n",
    "                           'tempo': tempo\n",
    "                          })"
   ]
  },
  {
   "cell_type": "code",
   "execution_count": 44,
   "id": "75a5d03e",
   "metadata": {},
   "outputs": [
    {
     "data": {
      "text/html": [
       "<div>\n",
       "<style scoped>\n",
       "    .dataframe tbody tr th:only-of-type {\n",
       "        vertical-align: middle;\n",
       "    }\n",
       "\n",
       "    .dataframe tbody tr th {\n",
       "        vertical-align: top;\n",
       "    }\n",
       "\n",
       "    .dataframe thead th {\n",
       "        text-align: right;\n",
       "    }\n",
       "</style>\n",
       "<table border=\"1\" class=\"dataframe\">\n",
       "  <thead>\n",
       "    <tr style=\"text-align: right;\">\n",
       "      <th></th>\n",
       "      <th>danceability</th>\n",
       "      <th>energy</th>\n",
       "      <th>loudness</th>\n",
       "      <th>speechiness</th>\n",
       "      <th>acousticness</th>\n",
       "      <th>instrumentalness</th>\n",
       "      <th>liveness</th>\n",
       "      <th>valence</th>\n",
       "      <th>tempo</th>\n",
       "    </tr>\n",
       "  </thead>\n",
       "  <tbody>\n",
       "    <tr>\n",
       "      <th>0</th>\n",
       "      <td>0.752</td>\n",
       "      <td>0.533</td>\n",
       "      <td>-8.986</td>\n",
       "      <td>0.0347</td>\n",
       "      <td>0.14900</td>\n",
       "      <td>0.000051</td>\n",
       "      <td>0.114</td>\n",
       "      <td>0.461</td>\n",
       "      <td>114.985</td>\n",
       "    </tr>\n",
       "    <tr>\n",
       "      <th>1</th>\n",
       "      <td>0.729</td>\n",
       "      <td>0.552</td>\n",
       "      <td>-12.220</td>\n",
       "      <td>0.3660</td>\n",
       "      <td>0.80000</td>\n",
       "      <td>0.002220</td>\n",
       "      <td>0.109</td>\n",
       "      <td>0.637</td>\n",
       "      <td>97.923</td>\n",
       "    </tr>\n",
       "    <tr>\n",
       "      <th>2</th>\n",
       "      <td>0.400</td>\n",
       "      <td>0.650</td>\n",
       "      <td>-6.104</td>\n",
       "      <td>0.0466</td>\n",
       "      <td>0.01180</td>\n",
       "      <td>0.000076</td>\n",
       "      <td>0.791</td>\n",
       "      <td>0.150</td>\n",
       "      <td>107.989</td>\n",
       "    </tr>\n",
       "    <tr>\n",
       "      <th>3</th>\n",
       "      <td>0.656</td>\n",
       "      <td>0.330</td>\n",
       "      <td>-8.771</td>\n",
       "      <td>0.1620</td>\n",
       "      <td>0.81800</td>\n",
       "      <td>0.003860</td>\n",
       "      <td>0.107</td>\n",
       "      <td>0.349</td>\n",
       "      <td>119.057</td>\n",
       "    </tr>\n",
       "    <tr>\n",
       "      <th>4</th>\n",
       "      <td>0.590</td>\n",
       "      <td>0.602</td>\n",
       "      <td>-8.195</td>\n",
       "      <td>0.4130</td>\n",
       "      <td>0.57700</td>\n",
       "      <td>0.000007</td>\n",
       "      <td>0.643</td>\n",
       "      <td>0.720</td>\n",
       "      <td>121.986</td>\n",
       "    </tr>\n",
       "    <tr>\n",
       "      <th>...</th>\n",
       "      <td>...</td>\n",
       "      <td>...</td>\n",
       "      <td>...</td>\n",
       "      <td>...</td>\n",
       "      <td>...</td>\n",
       "      <td>...</td>\n",
       "      <td>...</td>\n",
       "      <td>...</td>\n",
       "      <td>...</td>\n",
       "    </tr>\n",
       "    <tr>\n",
       "      <th>25165</th>\n",
       "      <td>0.534</td>\n",
       "      <td>0.751</td>\n",
       "      <td>-5.420</td>\n",
       "      <td>0.1110</td>\n",
       "      <td>0.14800</td>\n",
       "      <td>0.000358</td>\n",
       "      <td>0.129</td>\n",
       "      <td>0.336</td>\n",
       "      <td>149.935</td>\n",
       "    </tr>\n",
       "    <tr>\n",
       "      <th>25166</th>\n",
       "      <td>0.449</td>\n",
       "      <td>0.847</td>\n",
       "      <td>-5.116</td>\n",
       "      <td>0.0558</td>\n",
       "      <td>0.00379</td>\n",
       "      <td>0.000435</td>\n",
       "      <td>0.595</td>\n",
       "      <td>0.269</td>\n",
       "      <td>169.968</td>\n",
       "    </tr>\n",
       "    <tr>\n",
       "      <th>25167</th>\n",
       "      <td>0.440</td>\n",
       "      <td>0.700</td>\n",
       "      <td>-7.382</td>\n",
       "      <td>0.0336</td>\n",
       "      <td>0.00446</td>\n",
       "      <td>0.000103</td>\n",
       "      <td>0.143</td>\n",
       "      <td>0.205</td>\n",
       "      <td>150.062</td>\n",
       "    </tr>\n",
       "    <tr>\n",
       "      <th>25168</th>\n",
       "      <td>0.428</td>\n",
       "      <td>0.751</td>\n",
       "      <td>-6.297</td>\n",
       "      <td>0.0436</td>\n",
       "      <td>0.02750</td>\n",
       "      <td>0.011400</td>\n",
       "      <td>0.350</td>\n",
       "      <td>0.197</td>\n",
       "      <td>150.034</td>\n",
       "    </tr>\n",
       "    <tr>\n",
       "      <th>25169</th>\n",
       "      <td>0.470</td>\n",
       "      <td>0.761</td>\n",
       "      <td>-5.017</td>\n",
       "      <td>0.0529</td>\n",
       "      <td>0.01750</td>\n",
       "      <td>0.000000</td>\n",
       "      <td>0.575</td>\n",
       "      <td>0.191</td>\n",
       "      <td>150.049</td>\n",
       "    </tr>\n",
       "  </tbody>\n",
       "</table>\n",
       "<p>25170 rows × 9 columns</p>\n",
       "</div>"
      ],
      "text/plain": [
       "       danceability  energy  loudness  speechiness  acousticness  \\\n",
       "0             0.752   0.533    -8.986       0.0347       0.14900   \n",
       "1             0.729   0.552   -12.220       0.3660       0.80000   \n",
       "2             0.400   0.650    -6.104       0.0466       0.01180   \n",
       "3             0.656   0.330    -8.771       0.1620       0.81800   \n",
       "4             0.590   0.602    -8.195       0.4130       0.57700   \n",
       "...             ...     ...       ...          ...           ...   \n",
       "25165         0.534   0.751    -5.420       0.1110       0.14800   \n",
       "25166         0.449   0.847    -5.116       0.0558       0.00379   \n",
       "25167         0.440   0.700    -7.382       0.0336       0.00446   \n",
       "25168         0.428   0.751    -6.297       0.0436       0.02750   \n",
       "25169         0.470   0.761    -5.017       0.0529       0.01750   \n",
       "\n",
       "       instrumentalness  liveness  valence    tempo  \n",
       "0              0.000051     0.114    0.461  114.985  \n",
       "1              0.002220     0.109    0.637   97.923  \n",
       "2              0.000076     0.791    0.150  107.989  \n",
       "3              0.003860     0.107    0.349  119.057  \n",
       "4              0.000007     0.643    0.720  121.986  \n",
       "...                 ...       ...      ...      ...  \n",
       "25165          0.000358     0.129    0.336  149.935  \n",
       "25166          0.000435     0.595    0.269  169.968  \n",
       "25167          0.000103     0.143    0.205  150.062  \n",
       "25168          0.011400     0.350    0.197  150.034  \n",
       "25169          0.000000     0.575    0.191  150.049  \n",
       "\n",
       "[25170 rows x 9 columns]"
      ]
     },
     "execution_count": 44,
     "metadata": {},
     "output_type": "execute_result"
    }
   ],
   "source": [
    "spotify_audio "
   ]
  },
  {
   "cell_type": "code",
   "execution_count": 45,
   "id": "4f94bf9e",
   "metadata": {},
   "outputs": [],
   "source": [
    "doitall = pd.concat([spotify_df, spotify_audio], axis=1)"
   ]
  },
  {
   "cell_type": "code",
   "execution_count": 46,
   "id": "81e0cf79",
   "metadata": {},
   "outputs": [
    {
     "data": {
      "text/html": [
       "<div>\n",
       "<style scoped>\n",
       "    .dataframe tbody tr th:only-of-type {\n",
       "        vertical-align: middle;\n",
       "    }\n",
       "\n",
       "    .dataframe tbody tr th {\n",
       "        vertical-align: top;\n",
       "    }\n",
       "\n",
       "    .dataframe thead th {\n",
       "        text-align: right;\n",
       "    }\n",
       "</style>\n",
       "<table border=\"1\" class=\"dataframe\">\n",
       "  <thead>\n",
       "    <tr style=\"text-align: right;\">\n",
       "      <th></th>\n",
       "      <th>song</th>\n",
       "      <th>artist</th>\n",
       "      <th>uri</th>\n",
       "      <th>danceability</th>\n",
       "      <th>energy</th>\n",
       "      <th>loudness</th>\n",
       "      <th>speechiness</th>\n",
       "      <th>acousticness</th>\n",
       "      <th>instrumentalness</th>\n",
       "      <th>liveness</th>\n",
       "      <th>valence</th>\n",
       "      <th>tempo</th>\n",
       "    </tr>\n",
       "  </thead>\n",
       "  <tbody>\n",
       "    <tr>\n",
       "      <th>0</th>\n",
       "      <td>New Person, Same Old Mistakes</td>\n",
       "      <td>Tame Impala</td>\n",
       "      <td>spotify:track:52ojopYMUzeNcudsoz7O9D</td>\n",
       "      <td>0.752</td>\n",
       "      <td>0.533</td>\n",
       "      <td>-8.986</td>\n",
       "      <td>0.0347</td>\n",
       "      <td>0.1490</td>\n",
       "      <td>0.000051</td>\n",
       "      <td>0.114</td>\n",
       "      <td>0.461</td>\n",
       "      <td>114.985</td>\n",
       "    </tr>\n",
       "    <tr>\n",
       "      <th>1</th>\n",
       "      <td>I Was Never There</td>\n",
       "      <td>The Weeknd</td>\n",
       "      <td>spotify:track:1cKHdTo9u0ZymJdPGSh6nq</td>\n",
       "      <td>0.729</td>\n",
       "      <td>0.552</td>\n",
       "      <td>-12.220</td>\n",
       "      <td>0.3660</td>\n",
       "      <td>0.8000</td>\n",
       "      <td>0.002220</td>\n",
       "      <td>0.109</td>\n",
       "      <td>0.637</td>\n",
       "      <td>97.923</td>\n",
       "    </tr>\n",
       "    <tr>\n",
       "      <th>2</th>\n",
       "      <td>Under</td>\n",
       "      <td>Sampha</td>\n",
       "      <td>spotify:track:4NymlHYXIzso0S1TPWUSid</td>\n",
       "      <td>0.400</td>\n",
       "      <td>0.650</td>\n",
       "      <td>-6.104</td>\n",
       "      <td>0.0466</td>\n",
       "      <td>0.0118</td>\n",
       "      <td>0.000076</td>\n",
       "      <td>0.791</td>\n",
       "      <td>0.150</td>\n",
       "      <td>107.989</td>\n",
       "    </tr>\n",
       "    <tr>\n",
       "      <th>3</th>\n",
       "      <td>All I Have - Intro</td>\n",
       "      <td>Snoh Aalegra</td>\n",
       "      <td>spotify:track:6iBWuaPa61mWphAvACYlDr</td>\n",
       "      <td>0.656</td>\n",
       "      <td>0.330</td>\n",
       "      <td>-8.771</td>\n",
       "      <td>0.1620</td>\n",
       "      <td>0.8180</td>\n",
       "      <td>0.003860</td>\n",
       "      <td>0.107</td>\n",
       "      <td>0.349</td>\n",
       "      <td>119.057</td>\n",
       "    </tr>\n",
       "    <tr>\n",
       "      <th>4</th>\n",
       "      <td>Pyramids</td>\n",
       "      <td>Frank Ocean</td>\n",
       "      <td>spotify:track:4QhWbupniDd44EDtnh2bFJ</td>\n",
       "      <td>0.590</td>\n",
       "      <td>0.602</td>\n",
       "      <td>-8.195</td>\n",
       "      <td>0.4130</td>\n",
       "      <td>0.5770</td>\n",
       "      <td>0.000007</td>\n",
       "      <td>0.643</td>\n",
       "      <td>0.720</td>\n",
       "      <td>121.986</td>\n",
       "    </tr>\n",
       "    <tr>\n",
       "      <th>...</th>\n",
       "      <td>...</td>\n",
       "      <td>...</td>\n",
       "      <td>...</td>\n",
       "      <td>...</td>\n",
       "      <td>...</td>\n",
       "      <td>...</td>\n",
       "      <td>...</td>\n",
       "      <td>...</td>\n",
       "      <td>...</td>\n",
       "      <td>...</td>\n",
       "      <td>...</td>\n",
       "      <td>...</td>\n",
       "    </tr>\n",
       "    <tr>\n",
       "      <th>25217</th>\n",
       "      <td>Give You My Heart - Kronkz Remix</td>\n",
       "      <td>Averion</td>\n",
       "      <td>spotify:track:0AsS4lfLELjYrgtZfNEZgW</td>\n",
       "      <td>NaN</td>\n",
       "      <td>NaN</td>\n",
       "      <td>NaN</td>\n",
       "      <td>NaN</td>\n",
       "      <td>NaN</td>\n",
       "      <td>NaN</td>\n",
       "      <td>NaN</td>\n",
       "      <td>NaN</td>\n",
       "      <td>NaN</td>\n",
       "    </tr>\n",
       "    <tr>\n",
       "      <th>25218</th>\n",
       "      <td>Give You My Heart - Erry El Remix</td>\n",
       "      <td>Averion</td>\n",
       "      <td>spotify:track:3pPS775XVHIIJi74qFSvqo</td>\n",
       "      <td>NaN</td>\n",
       "      <td>NaN</td>\n",
       "      <td>NaN</td>\n",
       "      <td>NaN</td>\n",
       "      <td>NaN</td>\n",
       "      <td>NaN</td>\n",
       "      <td>NaN</td>\n",
       "      <td>NaN</td>\n",
       "      <td>NaN</td>\n",
       "    </tr>\n",
       "    <tr>\n",
       "      <th>25219</th>\n",
       "      <td>Give You My Heart - Uvique Remix</td>\n",
       "      <td>Averion</td>\n",
       "      <td>spotify:track:5hCZllZ17DPJMeLscqyLho</td>\n",
       "      <td>NaN</td>\n",
       "      <td>NaN</td>\n",
       "      <td>NaN</td>\n",
       "      <td>NaN</td>\n",
       "      <td>NaN</td>\n",
       "      <td>NaN</td>\n",
       "      <td>NaN</td>\n",
       "      <td>NaN</td>\n",
       "      <td>NaN</td>\n",
       "    </tr>\n",
       "    <tr>\n",
       "      <th>25220</th>\n",
       "      <td>Falling</td>\n",
       "      <td>Unsenses</td>\n",
       "      <td>spotify:track:5qBGvntJjNBAewZ46wJ0nI</td>\n",
       "      <td>NaN</td>\n",
       "      <td>NaN</td>\n",
       "      <td>NaN</td>\n",
       "      <td>NaN</td>\n",
       "      <td>NaN</td>\n",
       "      <td>NaN</td>\n",
       "      <td>NaN</td>\n",
       "      <td>NaN</td>\n",
       "      <td>NaN</td>\n",
       "    </tr>\n",
       "    <tr>\n",
       "      <th>25221</th>\n",
       "      <td>Beloved</td>\n",
       "      <td>Sylence</td>\n",
       "      <td>spotify:track:1W7bwcFITuMrUThlgKTjKP</td>\n",
       "      <td>NaN</td>\n",
       "      <td>NaN</td>\n",
       "      <td>NaN</td>\n",
       "      <td>NaN</td>\n",
       "      <td>NaN</td>\n",
       "      <td>NaN</td>\n",
       "      <td>NaN</td>\n",
       "      <td>NaN</td>\n",
       "      <td>NaN</td>\n",
       "    </tr>\n",
       "  </tbody>\n",
       "</table>\n",
       "<p>25222 rows × 12 columns</p>\n",
       "</div>"
      ],
      "text/plain": [
       "                                    song        artist  \\\n",
       "0          New Person, Same Old Mistakes   Tame Impala   \n",
       "1                      I Was Never There    The Weeknd   \n",
       "2                                  Under        Sampha   \n",
       "3                     All I Have - Intro  Snoh Aalegra   \n",
       "4                               Pyramids   Frank Ocean   \n",
       "...                                  ...           ...   \n",
       "25217   Give You My Heart - Kronkz Remix       Averion   \n",
       "25218  Give You My Heart - Erry El Remix       Averion   \n",
       "25219   Give You My Heart - Uvique Remix       Averion   \n",
       "25220                            Falling      Unsenses   \n",
       "25221                            Beloved       Sylence   \n",
       "\n",
       "                                        uri  danceability  energy  loudness  \\\n",
       "0      spotify:track:52ojopYMUzeNcudsoz7O9D         0.752   0.533    -8.986   \n",
       "1      spotify:track:1cKHdTo9u0ZymJdPGSh6nq         0.729   0.552   -12.220   \n",
       "2      spotify:track:4NymlHYXIzso0S1TPWUSid         0.400   0.650    -6.104   \n",
       "3      spotify:track:6iBWuaPa61mWphAvACYlDr         0.656   0.330    -8.771   \n",
       "4      spotify:track:4QhWbupniDd44EDtnh2bFJ         0.590   0.602    -8.195   \n",
       "...                                     ...           ...     ...       ...   \n",
       "25217  spotify:track:0AsS4lfLELjYrgtZfNEZgW           NaN     NaN       NaN   \n",
       "25218  spotify:track:3pPS775XVHIIJi74qFSvqo           NaN     NaN       NaN   \n",
       "25219  spotify:track:5hCZllZ17DPJMeLscqyLho           NaN     NaN       NaN   \n",
       "25220  spotify:track:5qBGvntJjNBAewZ46wJ0nI           NaN     NaN       NaN   \n",
       "25221  spotify:track:1W7bwcFITuMrUThlgKTjKP           NaN     NaN       NaN   \n",
       "\n",
       "       speechiness  acousticness  instrumentalness  liveness  valence    tempo  \n",
       "0           0.0347        0.1490          0.000051     0.114    0.461  114.985  \n",
       "1           0.3660        0.8000          0.002220     0.109    0.637   97.923  \n",
       "2           0.0466        0.0118          0.000076     0.791    0.150  107.989  \n",
       "3           0.1620        0.8180          0.003860     0.107    0.349  119.057  \n",
       "4           0.4130        0.5770          0.000007     0.643    0.720  121.986  \n",
       "...            ...           ...               ...       ...      ...      ...  \n",
       "25217          NaN           NaN               NaN       NaN      NaN      NaN  \n",
       "25218          NaN           NaN               NaN       NaN      NaN      NaN  \n",
       "25219          NaN           NaN               NaN       NaN      NaN      NaN  \n",
       "25220          NaN           NaN               NaN       NaN      NaN      NaN  \n",
       "25221          NaN           NaN               NaN       NaN      NaN      NaN  \n",
       "\n",
       "[25222 rows x 12 columns]"
      ]
     },
     "execution_count": 46,
     "metadata": {},
     "output_type": "execute_result"
    }
   ],
   "source": [
    "doitall"
   ]
  },
  {
   "cell_type": "code",
   "execution_count": 47,
   "id": "722682c8",
   "metadata": {},
   "outputs": [],
   "source": [
    "doitall.to_csv('doitall.csv')"
   ]
  },
  {
   "cell_type": "code",
   "execution_count": null,
   "id": "d5c644ff",
   "metadata": {},
   "outputs": [],
   "source": []
  },
  {
   "cell_type": "code",
   "execution_count": null,
   "id": "76e56438",
   "metadata": {},
   "outputs": [],
   "source": []
  },
  {
   "cell_type": "code",
   "execution_count": null,
   "id": "d4d68a55",
   "metadata": {},
   "outputs": [],
   "source": []
  },
  {
   "cell_type": "code",
   "execution_count": null,
   "id": "25021e12",
   "metadata": {},
   "outputs": [],
   "source": []
  },
  {
   "cell_type": "code",
   "execution_count": null,
   "id": "d51748d8",
   "metadata": {},
   "outputs": [],
   "source": []
  },
  {
   "cell_type": "code",
   "execution_count": null,
   "id": "caa17c49",
   "metadata": {},
   "outputs": [],
   "source": []
  },
  {
   "cell_type": "code",
   "execution_count": null,
   "id": "6be709a6",
   "metadata": {},
   "outputs": [],
   "source": []
  }
 ],
 "metadata": {
  "kernelspec": {
   "display_name": "Python 3 (ipykernel)",
   "language": "python",
   "name": "python3"
  },
  "language_info": {
   "codemirror_mode": {
    "name": "ipython",
    "version": 3
   },
   "file_extension": ".py",
   "mimetype": "text/x-python",
   "name": "python",
   "nbconvert_exporter": "python",
   "pygments_lexer": "ipython3",
   "version": "3.9.12"
  }
 },
 "nbformat": 4,
 "nbformat_minor": 5
}
